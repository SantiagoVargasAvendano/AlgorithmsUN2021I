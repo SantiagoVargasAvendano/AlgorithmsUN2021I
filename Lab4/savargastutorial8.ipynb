{
 "cells": [
  {
   "cell_type": "markdown",
   "metadata": {},
   "source": [
    "# Introduction to Financial Python\n",
    "## Tutorial 8 - Confidence Interval and Hypothesis Testing"
   ]
  },
  {
   "cell_type": "markdown",
   "metadata": {},
   "source": [
    "### Intervalo de confianza"
   ]
  },
  {
   "cell_type": "markdown",
   "metadata": {},
   "source": [
    "#### Muestra de error\n",
    "Utilicemos la rentabilidad diaria de Apple desde agosto del 2010 hasta la actualidad como población."
   ]
  },
  {
   "cell_type": "code",
   "execution_count": 8,
   "metadata": {},
   "outputs": [
    {
     "name": "stdout",
     "output_type": "stream",
     "text": [
      "Media de la población: 0.001011261840353075\n",
      "Desviación estándar de la población: 0.017848654797024178\n"
     ]
    }
   ],
   "source": [
    "import matplotlib.pyplot as plt\n",
    "import numpy as np\n",
    "import pandas as pd\n",
    "\n",
    "qb = QuantBook()\n",
    "appl = qb.AddEquity(\"AAPL\").Symbol\n",
    "\n",
    "start_date = datetime(2010, 8, 1, 0, 0, 0)\n",
    "end_date = qb.Time\n",
    "appl_table = qb.History(appl, start_date, end_date, Resolution.Daily)\n",
    "appl_total = appl_table[['open','close']]\n",
    "\n",
    "# Calcular los rendimientos de los registros\n",
    "appl_log_return = np.log(appl_total.close).diff().dropna()\n",
    "\n",
    "print('Media de la población:', np.mean(appl_log_return))\n",
    "print('Desviación estándar de la población:',np.std(appl_log_return))"
   ]
  },
  {
   "cell_type": "markdown",
   "metadata": {},
   "source": [
    "Ahora vamos a comprobar la muestra de los últimos 10 días y la muestra de los últimos 1000 días."
   ]
  },
  {
   "cell_type": "code",
   "execution_count": 9,
   "metadata": {},
   "outputs": [
    {
     "name": "stdout",
     "output_type": "stream",
     "text": [
      "Devolución de muestras en 10 días: 0.00014861297319077594\n",
      "Desviación estándar de muestras en 10 días:: 0.01809897239385377\n",
      "Devolución de muestras en 1000 días: 0.0012654006104160236\n",
      "Desviación estándar de muestras en 1000 días:: 0.020515081561995697\n"
     ]
    }
   ],
   "source": [
    "print('Devolución de muestras en 10 días:', np.mean(appl_log_return.tail(10)))\n",
    "print('Desviación estándar de muestras en 10 días::', np.std(appl_log_return.tail(10)))\n",
    "print('Devolución de muestras en 1000 días:', np.mean(appl_log_return.tail(1000)))\n",
    "print('Desviación estándar de muestras en 1000 días::', np.std(appl_log_return.tail(1000)))"
   ]
  },
  {
   "cell_type": "markdown",
   "metadata": {},
   "source": [
    "Como esperábamos, las dos muestras tienen medias y varianzas diferentes."
   ]
  },
  {
   "cell_type": "markdown",
   "metadata": {},
   "source": [
    "#### Intervalo de confianza\n",
    "Para estimar el rango de la media poblacional, definimos el error estándar de la media como sigue: <br>\n",
    "$ SE = \\frac{\\sigma}{\\sqrt{n}}$, donde $\\sigma$ es la desviación estándar de la muestra y n es el tamaño de la muestra. <br>\n",
    "Generalmente, si queremos estimar un intervalo de la población para que el 95% de las veces el intervalo contenga la media poblacional, el intervalo se calcula como: <br>\n",
    "$ (\\mu -1.96*SE, \\mu +1.96*SE)$, donde $\\mu$ es la media de la muestra y SE es el error estándar. <br>\n",
    "Solemos utilizar 1,96 para calcular un intervalo de confianza del 95% porque suponemos que la media de la muestra sigue una distribución normal."
   ]
  },
  {
   "cell_type": "code",
   "execution_count": 10,
   "metadata": {},
   "outputs": [
    {
     "name": "stdout",
     "output_type": "stream",
     "text": [
      "10 días, invervalo de confianza del 95%: (-0.011069246337134471, 0.011366472283516022)\n",
      "1000 días, invervalo de confianza del 95%: (-6.137318336588236e-06, 0.0025369385391686354)\n"
     ]
    }
   ],
   "source": [
    "bottom_1 = np.mean(appl_log_return.tail(10))-1.96*np.std(appl_log_return.tail(10))/(np.sqrt(len((appl_log_return.tail(10)))))\n",
    "upper_1 = np.mean(appl_log_return.tail(10))+1.96*np.std(appl_log_return.tail(10))/(np.sqrt(len((appl_log_return.tail(10)))))\n",
    "bottom_2 = np.mean(appl_log_return.tail(1000))-1.96*np.std(appl_log_return.tail(1000))/(np.sqrt(len((appl_log_return.tail(1000)))))\n",
    "upper_2 = np.mean(appl_log_return.tail(1000))+1.96*np.std(appl_log_return.tail(1000))/(np.sqrt(len((appl_log_return.tail(1000)))))\n",
    "\n",
    "print('10 días, invervalo de confianza del 95%:', (bottom_1,upper_1))\n",
    "print('1000 días, invervalo de confianza del 95%:', (bottom_2,upper_2))"
   ]
  },
  {
   "cell_type": "markdown",
   "metadata": {},
   "source": [
    "#### Intervalo de confianza de la distribución normal\n",
    "La distribución normal se utiliza con tanta frecuencia que deberíamos ser capaces de recordar algunos valores críticos de la misma. En concreto, solemos utilizar el 90%, el 95% y el 99% como nivel de confianza de un intervalo de confianza. Los valores críticos para estos tres niveles de confianza son 1,64, 1,96 y 2,32 respectivamente."
   ]
  },
  {
   "cell_type": "markdown",
   "metadata": {},
   "source": [
    "#### Teoría del límite central\n",
    "Como hemos dicho, si utilizamos la muestra para estimar el intervalo de confianza de la población, el intervalo de confianza del 95% es: <br>\n",
    "$ (\\mu -1.96*SE, \\mu +1.96*SE)$ <br>\n",
    "Este teorema nos dice que, dado un tamaño de muestra suficientemente grande de una población con un nivel finito de varianza, la media de todas las muestras de la misma población será aproximadamente igual a la media de la población, y las medias de las muestras tendrán una distribución aproximadamente normal. "
   ]
  },
  {
   "cell_type": "markdown",
   "metadata": {},
   "source": [
    "### Pruebas de hipótesis"
   ]
  },
  {
   "cell_type": "markdown",
   "metadata": {},
   "source": [
    "La prueba de hipótesis es esencialmente una prueba de inferencia basada en una muestra.<br>\n",
    "Supongamos que no conocemos la media de esta población. Supongo que la media de esta población es 0. ¿Es correcta mi suposición? Tengo que comprobar esta hipótesis con mi muestra. Empecemos por observar nuestra muestra: "
   ]
  },
  {
   "cell_type": "code",
   "execution_count": 11,
   "metadata": {},
   "outputs": [
    {
     "name": "stdout",
     "output_type": "stream",
     "text": [
      "media_10      0.000149\n",
      "std_10        0.018099\n",
      "media_1000    0.001265\n",
      "std_1000      0.020515\n",
      "dtype: float64\n"
     ]
    }
   ],
   "source": [
    "mean_1000 = np.mean(appl_log_return.tail(1000))\n",
    "std_1000 = np.std(appl_log_return.tail(1000))\n",
    "mean_10 = np.mean(appl_log_return.tail(10))\n",
    "std_10 = np.std(appl_log_return.tail(10))\n",
    "s = pd.Series([mean_10,std_10,mean_1000,std_1000],index = ['media_10', 'std_10','media_1000','std_1000'])\n",
    "print(s)"
   ]
  },
  {
   "cell_type": "markdown",
   "metadata": {},
   "source": [
    "Ahora sabemos cómo calcular el intervalo de confianza. Si tuviera razón, es decir, la media de la población es 0, entonces el intervalo de confianza del 90% de la muestra con 1000 observaciones debería ser: "
   ]
  },
  {
   "cell_type": "code",
   "execution_count": 12,
   "metadata": {},
   "outputs": [
    {
     "name": "stdout",
     "output_type": "stream",
     "text": [
      "(-0.001063939899568512, 0.001063939899568512)\n"
     ]
    }
   ],
   "source": [
    "bottom = 0 - 1.64*std_1000/np.sqrt(1000)\n",
    "upper = 0 + 1.64*std_1000/np.sqrt(1000)\n",
    "print((bottom, upper))"
   ]
  },
  {
   "cell_type": "markdown",
   "metadata": {},
   "source": [
    "Nuestra media de la muestra está dentro del intervalo de confianza del 90%, así que podemos decir que la hipótesis es correcta."
   ]
  },
  {
   "cell_type": "markdown",
   "metadata": {},
   "source": [
    "En general, tenemos la hipótesis nula $ H_0 $ y la hipótesis alternativa. Suelen tener las siguientes formas: <br>\n",
    "$ H_0 : \\bar{\\mu} = 0 $ <br>\n",
    "$ H_0 : \\bar{\\mu} \\not= 0 $ <br>\n",
    "Si el valor analizado está fuera del intervalo de confianza, rechazamos la hipótesis nula o aceptamos la hipótesis alternativa. También podemos invertir el proceso para calcular el valor crítico, o puntuación Z. La puntuación Z se define como: <br>\n",
    "$ Z = \\frac{x-\\mu}{\\frac{\\sigma}{\\sqrt{n}}} $"
   ]
  },
  {
   "cell_type": "code",
   "execution_count": 14,
   "metadata": {},
   "outputs": [
    {
     "name": "stdout",
     "output_type": "stream",
     "text": [
      "1.9505396892474032\n"
     ]
    }
   ],
   "source": [
    "print(np.sqrt(1000)*(mean_1000 - 0)/std_1000)"
   ]
  },
  {
   "cell_type": "markdown",
   "metadata": {},
   "source": [
    "En nuestro ejemplo, la puntuación z es 1.9505. Podemos conocer la anchura es el intervalo de confianza refiriéndonos a una tabla de distribución normal. Por supuesto, podemos hacer esto en Python:"
   ]
  },
  {
   "cell_type": "code",
   "execution_count": 15,
   "metadata": {},
   "outputs": [
    {
     "name": "stdout",
     "output_type": "stream",
     "text": [
      "0.02555827669133459\n"
     ]
    }
   ],
   "source": [
    "import scipy.stats as st\n",
    "print((1 - st.norm.cdf(1.9505)))"
   ]
  },
  {
   "cell_type": "markdown",
   "metadata": {},
   "source": [
    "Este número calculado se llama valor p. <br>\n",
    "Ahora vamos a probar la hipótesis de que la media de la población = 0 de nuevo con una muestra grande, que tiene 1200 observaciones:"
   ]
  },
  {
   "cell_type": "code",
   "execution_count": 16,
   "metadata": {},
   "outputs": [
    {
     "name": "stdout",
     "output_type": "stream",
     "text": [
      "z-score =  2.537215239096944\n",
      "p_value =  0.005586911551146101\n"
     ]
    }
   ],
   "source": [
    "mean_1200 = np.mean(appl_log_return.tail(1200))\n",
    "std_1200 = np.std(appl_log_return.tail(1200))\n",
    "z_score = np.sqrt(1200)*(mean_1200 - 0)/std_1200\n",
    "print('z-score = ',z_score)\n",
    "p_value = (1 - st.norm.cdf(z_score))\n",
    "print('p_value = ',p_value)"
   ]
  }
 ],
 "metadata": {
  "kernelspec": {
   "display_name": "Python 3",
   "language": "python",
   "name": "python3"
  },
  "language_info": {
   "codemirror_mode": {
    "name": "ipython",
    "version": 3
   },
   "file_extension": ".py",
   "mimetype": "text/x-python",
   "name": "python",
   "nbconvert_exporter": "python",
   "pygments_lexer": "ipython3",
   "version": "3.6.8"
  }
 },
 "nbformat": 4,
 "nbformat_minor": 2
}
