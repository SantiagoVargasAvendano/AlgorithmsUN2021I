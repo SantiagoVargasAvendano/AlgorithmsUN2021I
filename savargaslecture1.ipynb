{
  "nbformat": 4,
  "nbformat_minor": 0,
  "metadata": {
    "kernelspec": {
      "name": "python3",
      "display_name": "Python 3"
    },
    "colab": {
      "name": "savargaslecture1.ipynb",
      "provenance": [],
      "collapsed_sections": [],
      "include_colab_link": true
    }
  },
  "cells": [
    {
      "cell_type": "markdown",
      "metadata": {
        "id": "view-in-github",
        "colab_type": "text"
      },
      "source": [
        "<a href=\"https://colab.research.google.com/github/SantiagoVargasAvendano/AlgorithmsUN2021I/blob/main/savargaslecture1.ipynb\" target=\"_parent\"><img src=\"https://colab.research.google.com/assets/colab-badge.svg\" alt=\"Open In Colab\"/></a>"
      ]
    },
    {
      "cell_type": "markdown",
      "metadata": {
        "id": "3_vTgi_-T_O5"
      },
      "source": [
        "#Introduction to the Research Environment\n",
        "\n",
        "The research environment is powered by IPython notebooks, which allow one to perform a great deal of data analysis and statistical validation. We'll demonstrate a few simple techniques here."
      ]
    },
    {
      "cell_type": "markdown",
      "metadata": {
        "id": "HcLjmqjrT_PM"
      },
      "source": [
        "##Code Cells vs. Text Cells\n",
        "\n",
        "As you can see, each cell can be either code or text. To select between them, choose from the 'Cell Type' dropdown menu on the top left."
      ]
    },
    {
      "cell_type": "markdown",
      "metadata": {
        "id": "-znVyunpT_PO"
      },
      "source": [
        "##Executing a Command\n",
        "\n",
        "A code cell will be evaluated when you press play, or when you press the shortcut, shift-enter. Evaluating a cell evaluates each line of code in sequence, and prints the results of the last line below the cell."
      ]
    },
    {
      "cell_type": "code",
      "metadata": {
        "colab": {
          "base_uri": "https://localhost:8080/"
        },
        "id": "J-5DdcD7T_PS",
        "outputId": "3d416bc0-16ed-4652-b68f-1dc9c078081c"
      },
      "source": [
        "print(2+3)"
      ],
      "execution_count": null,
      "outputs": [
        {
          "output_type": "stream",
          "text": [
            "5\n"
          ],
          "name": "stdout"
        }
      ]
    },
    {
      "cell_type": "markdown",
      "metadata": {
        "id": "KUVLZXguT_PT"
      },
      "source": [
        "Sometimes there is no result to be printed, as is the case with assignment."
      ]
    },
    {
      "cell_type": "code",
      "metadata": {
        "collapsed": true,
        "id": "qeqjzuemT_PU"
      },
      "source": [
        "X = 2"
      ],
      "execution_count": null,
      "outputs": []
    },
    {
      "cell_type": "markdown",
      "metadata": {
        "id": "PGgDbgewT_PV"
      },
      "source": [
        "Remember that only the result from the last line is printed."
      ]
    },
    {
      "cell_type": "code",
      "metadata": {
        "id": "JpfX8b3sT_PW",
        "colab": {
          "base_uri": "https://localhost:8080/"
        },
        "outputId": "70d90ccf-6e82-4df3-c6c4-67731e92d84c"
      },
      "source": [
        "2 + 2\n",
        "print(3+3)"
      ],
      "execution_count": null,
      "outputs": [
        {
          "output_type": "stream",
          "text": [
            "6\n"
          ],
          "name": "stdout"
        }
      ]
    },
    {
      "cell_type": "markdown",
      "metadata": {
        "id": "WXLsbLpST_PX"
      },
      "source": [
        "However, you can print whichever lines you want using the `print` statement."
      ]
    },
    {
      "cell_type": "code",
      "metadata": {
        "id": "wN8NQThzT_PY",
        "colab": {
          "base_uri": "https://localhost:8080/"
        },
        "outputId": "daa19002-5f9e-4c75-f38a-abae322eba9f"
      },
      "source": [
        "print(2 + 2)\n",
        "3 + 3"
      ],
      "execution_count": null,
      "outputs": [
        {
          "output_type": "stream",
          "text": [
            "4\n"
          ],
          "name": "stdout"
        },
        {
          "output_type": "execute_result",
          "data": {
            "text/plain": [
              "6"
            ]
          },
          "metadata": {
            "tags": []
          },
          "execution_count": 4
        }
      ]
    },
    {
      "cell_type": "markdown",
      "metadata": {
        "id": "uF9kpyTXT_PY"
      },
      "source": [
        "##Knowing When a Cell is Running\n",
        "\n",
        "While a cell is running, a `[*]` will display on the left. When a cell has yet to be executed, `[ ]` will display. When it has been run, a number will display indicating the order in which it was run during the execution of the notebook `[5]`. Try on this cell and note it happening."
      ]
    },
    {
      "cell_type": "markdown",
      "metadata": {
        "id": "5lpDGT0Vtp3G"
      },
      "source": [
        "Es posible escribir funciones matemáticas simples con Python tales como:\r\n",
        "$f(x)=\\sum_{i=0}^{1000000} i$"
      ]
    },
    {
      "cell_type": "code",
      "metadata": {
        "colab": {
          "base_uri": "https://localhost:8080/"
        },
        "id": "reS66qEVT_PZ",
        "outputId": "1a18ceb4-2899-4081-c6b0-459a58c93d2c"
      },
      "source": [
        "#Take some time to run something\n",
        "c = 0\n",
        "for i in range(1000000):\n",
        "    c = c + i\n",
        "c"
      ],
      "execution_count": null,
      "outputs": [
        {
          "output_type": "execute_result",
          "data": {
            "text/plain": [
              "499999500000"
            ]
          },
          "metadata": {
            "tags": []
          },
          "execution_count": 2
        }
      ]
    },
    {
      "cell_type": "markdown",
      "metadata": {
        "id": "die8X8dRT_Pa"
      },
      "source": [
        "##Importing Libraries\n",
        "\n",
        "The vast majority of the time, you'll want to use functions from pre-built libraries. You can't import every library on Quantopian due to security issues, but you can import most of the common scientific ones. Here I import numpy and pandas, the two most common and useful libraries in quant finance. I recommend copying this import statement to every new notebook.\n",
        "\n",
        "Notice that you can rename libraries to whatever you want after importing. The `as` statement allows this. Here we use `np` and `pd` as aliases for `numpy` and `pandas`. This is a very common aliasing and will be found in most code snippets around the web. The point behind this is to allow you to type fewer characters when you are frequently accessing these libraries."
      ]
    },
    {
      "cell_type": "code",
      "metadata": {
        "collapsed": true,
        "id": "6lLf2FxJT_Pa"
      },
      "source": [
        "import numpy as np\n",
        "import pandas as pd\n",
        "\n",
        "# This is a plotting library for pretty pictures.\n",
        "import matplotlib.pyplot as plt"
      ],
      "execution_count": null,
      "outputs": []
    },
    {
      "cell_type": "markdown",
      "metadata": {
        "id": "MNL_m-VdT_Pb"
      },
      "source": [
        "##Tab Autocomplete\n",
        "\n",
        "Pressing tab will give you a list of IPython's best guesses for what you might want to type next. This is incredibly valuable and will save you a lot of time. If there is only one possible option for what you could type next, IPython will fill that in for you. Try pressing tab very frequently, it will seldom fill in anything you don't want, as if there is ambiguity a list will be shown. This is a great way to see what functions are available in a library.\n",
        "\n",
        "Try placing your cursor after the `.` and pressing tab."
      ]
    },
    {
      "cell_type": "code",
      "metadata": {
        "colab": {
          "base_uri": "https://localhost:8080/"
        },
        "id": "CdiduWspT_Pc",
        "outputId": "e1366088-3d17-45e0-c0d0-d79d73d4d7d8"
      },
      "source": [
        "np.random.beta"
      ],
      "execution_count": null,
      "outputs": [
        {
          "output_type": "execute_result",
          "data": {
            "text/plain": [
              "<function RandomState.beta>"
            ]
          },
          "metadata": {
            "tags": []
          },
          "execution_count": 7
        }
      ]
    },
    {
      "cell_type": "markdown",
      "metadata": {
        "id": "RHgPyutOT_Pc"
      },
      "source": [
        "##Getting Documentation Help\n",
        "\n",
        "Placing a question mark after a function and executing that line of code will give you the documentation IPython has for that function. It's often best to do this in a new cell, as you avoid re-executing other code and running into bugs."
      ]
    },
    {
      "cell_type": "code",
      "metadata": {
        "collapsed": true,
        "id": "Kc8oXvDGT_Pd"
      },
      "source": [
        "np.random.normal?"
      ],
      "execution_count": null,
      "outputs": []
    },
    {
      "cell_type": "markdown",
      "metadata": {
        "id": "WN5upv8YT_Pd"
      },
      "source": [
        "##Sampling\n",
        "\n",
        "We'll sample some random data using a function from `numpy`."
      ]
    },
    {
      "cell_type": "code",
      "metadata": {
        "id": "xWN7OgyRT_Pe"
      },
      "source": [
        "# Sample 100 points with a mean of 0 and an std of 2. This is a standard normal distribution.\n",
        "X = np.random.normal(0, 2, 100)"
      ],
      "execution_count": null,
      "outputs": []
    },
    {
      "cell_type": "markdown",
      "metadata": {
        "id": "jdaERNxPxLtO"
      },
      "source": [
        "La función normal está definida como: $\\Phi_{\\mu,\\sigma^2}(x) = \\int_{-\\infty}^{x} \\varphi_{\\mu,\\sigma^2}(u) du = \\frac{1}{\\sigma \\sqrt{2\\pi}} \\int_{-\\infty}^{x} e^{-\\frac{(u-\\mu)^2}{2 \\sigma^2}} du, x \\in \\mathbb R$"
      ]
    },
    {
      "cell_type": "markdown",
      "metadata": {
        "id": "EgfY_bV3T_Pe"
      },
      "source": [
        "##Plotting\n",
        "\n",
        "We can use the plotting library we imported as follows."
      ]
    },
    {
      "cell_type": "code",
      "metadata": {
        "colab": {
          "base_uri": "https://localhost:8080/",
          "height": 282
        },
        "id": "1Gruy_69T_Pf",
        "outputId": "3935e99d-8b46-4fcd-a684-ada0790967e7"
      },
      "source": [
        "plt.plot(X)"
      ],
      "execution_count": null,
      "outputs": [
        {
          "output_type": "execute_result",
          "data": {
            "text/plain": [
              "[<matplotlib.lines.Line2D at 0x7fb9d04bf390>]"
            ]
          },
          "metadata": {
            "tags": []
          },
          "execution_count": 6
        },
        {
          "output_type": "display_data",
          "data": {
            "image/png": "[encoded data removed]",
            "text/plain": [
              "<Figure size 432x288 with 1 Axes>"
            ]
          },
          "metadata": {
            "tags": [],
            "needs_background": "light"
          }
        }
      ]
    },
    {
      "cell_type": "markdown",
      "metadata": {
        "id": "IknJfifJT_Pg"
      },
      "source": [
        "###Squelching Line Output\n",
        "\n",
        "You might have noticed the annoying line of the form `[<matplotlib.lines.Line2D at 0x7f72fdbc1710>]` before the plots. This is because the `.plot` function actually produces output. Sometimes we wish not to display output, we can accomplish this with the semi-colon as follows."
      ]
    },
    {
      "cell_type": "code",
      "metadata": {
        "colab": {
          "base_uri": "https://localhost:8080/",
          "height": 265
        },
        "id": "swJanAi8T_Pg",
        "outputId": "dc14b865-073c-4b38-a7a6-e03e4cca55c0"
      },
      "source": [
        "plt.plot(X);"
      ],
      "execution_count": null,
      "outputs": [
        {
          "output_type": "display_data",
          "data": {
            "image/png": "[encoded data removed]",
            "text/plain": [
              "<Figure size 432x288 with 1 Axes>"
            ]
          },
          "metadata": {
            "tags": [],
            "needs_background": "light"
          }
        }
      ]
    },
    {
      "cell_type": "markdown",
      "metadata": {
        "id": "6poFKMTvT_Ph"
      },
      "source": [
        "###Adding Axis Labels\n",
        "\n",
        "No self-respecting quant leaves a graph without labeled axes. Here are some commands to help with that."
      ]
    },
    {
      "cell_type": "code",
      "metadata": {
        "colab": {
          "base_uri": "https://localhost:8080/",
          "height": 279
        },
        "id": "zdPNeZbCT_Ph",
        "outputId": "d38d4d99-589d-4bfa-bca7-c673bc43ba0a"
      },
      "source": [
        "X = np.random.normal(5, 2, 100)\n",
        "X2 = np.random.normal(5, 2, 100)\n",
        "\n",
        "plt.plot(X);\n",
        "plt.plot(X2);\n",
        "plt.xlabel('Time') # The data we generated is unitless, but don't forget units in general.\n",
        "plt.ylabel('Returns')\n",
        "plt.legend(['X', 'X2']);"
      ],
      "execution_count": null,
      "outputs": [
        {
          "output_type": "display_data",
          "data": {
            "image/png": "[encoded data removed]",
            "text/plain": [
              "<Figure size 432x288 with 1 Axes>"
            ]
          },
          "metadata": {
            "tags": [],
            "needs_background": "light"
          }
        }
      ]
    },
    {
      "cell_type": "markdown",
      "metadata": {
        "id": "pblXVwpCT_Pi"
      },
      "source": [
        "##Generating Statistics\n",
        "\n",
        "Let's use `numpy` to take some simple statistics."
      ]
    },
    {
      "cell_type": "code",
      "metadata": {
        "colab": {
          "base_uri": "https://localhost:8080/"
        },
        "id": "N3DAj4v0T_Pi",
        "outputId": "6aa93741-6607-45c9-e7f7-b042f19233cc"
      },
      "source": [
        "np.mean(X)"
      ],
      "execution_count": null,
      "outputs": [
        {
          "output_type": "execute_result",
          "data": {
            "text/plain": [
              "5.034149661469964"
            ]
          },
          "metadata": {
            "tags": []
          },
          "execution_count": 9
        }
      ]
    },
    {
      "cell_type": "code",
      "metadata": {
        "colab": {
          "base_uri": "https://localhost:8080/"
        },
        "id": "ChePu30FT_Pj",
        "outputId": "04934ae2-c4e2-4fba-c991-dfd4c2de0818"
      },
      "source": [
        "np.std(X)"
      ],
      "execution_count": null,
      "outputs": [
        {
          "output_type": "execute_result",
          "data": {
            "text/plain": [
              "1.988552362242309"
            ]
          },
          "metadata": {
            "tags": []
          },
          "execution_count": 10
        }
      ]
    },
    {
      "cell_type": "markdown",
      "metadata": {
        "id": "8rRqrLgeT_Pj"
      },
      "source": [
        "##Getting Real Pricing Data\n",
        "\n",
        "Randomly sampled data can be great for testing ideas, but let's get some real data. We can use get_pricing to do that. You can use the ? syntax as discussed above to get more information on get_pricing's arguments.\n"
      ]
    },
    {
      "cell_type": "code",
      "metadata": {
        "id": "Lx4qd_0yT_Pj",
        "colab": {
          "base_uri": "https://localhost:8080/",
          "height": 450
        },
        "outputId": "875354f1-fb41-4c51-a3d7-7d7c82957e8a"
      },
      "source": [
        "data = get_pricing('MSFT', start_date='2012-1-1', end_date='2015-6-1')"
      ],
      "execution_count": null,
      "outputs": [
        {
          "output_type": "execute_result",
          "data": {
            "text/html": [
              "<div>\n",
              "<style scoped>\n",
              "    .dataframe tbody tr th:only-of-type {\n",
              "        vertical-align: middle;\n",
              "    }\n",
              "\n",
              "    .dataframe tbody tr th {\n",
              "        vertical-align: top;\n",
              "    }\n",
              "\n",
              "    .dataframe thead th {\n",
              "        text-align: right;\n",
              "    }\n",
              "</style>\n",
              "<table border=\"1\" class=\"dataframe\">\n",
              "  <thead>\n",
              "    <tr style=\"text-align: right;\">\n",
              "      <th></th>\n",
              "      <th>High</th>\n",
              "      <th>Low</th>\n",
              "      <th>Open</th>\n",
              "      <th>Close</th>\n",
              "      <th>Volume</th>\n",
              "      <th>Adj Close</th>\n",
              "    </tr>\n",
              "    <tr>\n",
              "      <th>Date</th>\n",
              "      <th></th>\n",
              "      <th></th>\n",
              "      <th></th>\n",
              "      <th></th>\n",
              "      <th></th>\n",
              "      <th></th>\n",
              "    </tr>\n",
              "  </thead>\n",
              "  <tbody>\n",
              "    <tr>\n",
              "      <th>2020-01-02</th>\n",
              "      <td>160.729996</td>\n",
              "      <td>158.330002</td>\n",
              "      <td>158.779999</td>\n",
              "      <td>160.619995</td>\n",
              "      <td>22622100.0</td>\n",
              "      <td>158.571075</td>\n",
              "    </tr>\n",
              "    <tr>\n",
              "      <th>2020-01-03</th>\n",
              "      <td>159.949997</td>\n",
              "      <td>158.059998</td>\n",
              "      <td>158.320007</td>\n",
              "      <td>158.619995</td>\n",
              "      <td>21116200.0</td>\n",
              "      <td>156.596588</td>\n",
              "    </tr>\n",
              "    <tr>\n",
              "      <th>2020-01-06</th>\n",
              "      <td>159.100006</td>\n",
              "      <td>156.509995</td>\n",
              "      <td>157.080002</td>\n",
              "      <td>159.029999</td>\n",
              "      <td>20813700.0</td>\n",
              "      <td>157.001373</td>\n",
              "    </tr>\n",
              "    <tr>\n",
              "      <th>2020-01-07</th>\n",
              "      <td>159.669998</td>\n",
              "      <td>157.320007</td>\n",
              "      <td>159.320007</td>\n",
              "      <td>157.580002</td>\n",
              "      <td>21634100.0</td>\n",
              "      <td>155.569855</td>\n",
              "    </tr>\n",
              "    <tr>\n",
              "      <th>2020-01-08</th>\n",
              "      <td>160.800003</td>\n",
              "      <td>157.949997</td>\n",
              "      <td>158.929993</td>\n",
              "      <td>160.089996</td>\n",
              "      <td>27746500.0</td>\n",
              "      <td>158.047836</td>\n",
              "    </tr>\n",
              "    <tr>\n",
              "      <th>...</th>\n",
              "      <td>...</td>\n",
              "      <td>...</td>\n",
              "      <td>...</td>\n",
              "      <td>...</td>\n",
              "      <td>...</td>\n",
              "      <td>...</td>\n",
              "    </tr>\n",
              "    <tr>\n",
              "      <th>2020-12-24</th>\n",
              "      <td>223.610001</td>\n",
              "      <td>221.199997</td>\n",
              "      <td>221.419998</td>\n",
              "      <td>222.750000</td>\n",
              "      <td>10550600.0</td>\n",
              "      <td>222.238144</td>\n",
              "    </tr>\n",
              "    <tr>\n",
              "      <th>2020-12-28</th>\n",
              "      <td>226.029999</td>\n",
              "      <td>223.020004</td>\n",
              "      <td>224.449997</td>\n",
              "      <td>224.960007</td>\n",
              "      <td>17933500.0</td>\n",
              "      <td>224.443069</td>\n",
              "    </tr>\n",
              "    <tr>\n",
              "      <th>2020-12-29</th>\n",
              "      <td>227.179993</td>\n",
              "      <td>223.580002</td>\n",
              "      <td>226.309998</td>\n",
              "      <td>224.149994</td>\n",
              "      <td>17403200.0</td>\n",
              "      <td>223.634918</td>\n",
              "    </tr>\n",
              "    <tr>\n",
              "      <th>2020-12-30</th>\n",
              "      <td>225.630005</td>\n",
              "      <td>221.470001</td>\n",
              "      <td>225.229996</td>\n",
              "      <td>221.679993</td>\n",
              "      <td>20272300.0</td>\n",
              "      <td>221.170593</td>\n",
              "    </tr>\n",
              "    <tr>\n",
              "      <th>2020-12-31</th>\n",
              "      <td>223.000000</td>\n",
              "      <td>219.679993</td>\n",
              "      <td>221.699997</td>\n",
              "      <td>222.419998</td>\n",
              "      <td>20942100.0</td>\n",
              "      <td>221.908905</td>\n",
              "    </tr>\n",
              "  </tbody>\n",
              "</table>\n",
              "<p>253 rows × 6 columns</p>\n",
              "</div>"
            ],
            "text/plain": [
              "                  High         Low  ...      Volume   Adj Close\n",
              "Date                                ...                        \n",
              "2020-01-02  160.729996  158.330002  ...  22622100.0  158.571075\n",
              "2020-01-03  159.949997  158.059998  ...  21116200.0  156.596588\n",
              "2020-01-06  159.100006  156.509995  ...  20813700.0  157.001373\n",
              "2020-01-07  159.669998  157.320007  ...  21634100.0  155.569855\n",
              "2020-01-08  160.800003  157.949997  ...  27746500.0  158.047836\n",
              "...                ...         ...  ...         ...         ...\n",
              "2020-12-24  223.610001  221.199997  ...  10550600.0  222.238144\n",
              "2020-12-28  226.029999  223.020004  ...  17933500.0  224.443069\n",
              "2020-12-29  227.179993  223.580002  ...  17403200.0  223.634918\n",
              "2020-12-30  225.630005  221.470001  ...  20272300.0  221.170593\n",
              "2020-12-31  223.000000  219.679993  ...  20942100.0  221.908905\n",
              "\n",
              "[253 rows x 6 columns]"
            ]
          },
          "metadata": {
            "tags": []
          },
          "execution_count": 13
        }
      ]
    },
    {
      "cell_type": "markdown",
      "metadata": {
        "id": "PJC7ckZstCqc"
      },
      "source": [
        "La función get_pricing no esta habilitada para su uso en Google colab, por lo que para traer datos financieros del año pasado de Yahoo Finance utilizaremos lo siguiente:"
      ]
    },
    {
      "cell_type": "code",
      "metadata": {
        "colab": {
          "base_uri": "https://localhost:8080/",
          "height": 450
        },
        "id": "OOZqUip1tgNG",
        "outputId": "6c0e896a-1258-46bf-8b96-b22bb7880368"
      },
      "source": [
        "import pandas_datareader as pdr\r\n",
        "import datetime \r\n",
        "data = pdr.get_data_yahoo('MSFT', start= datetime.datetime(2020,1,1), end= datetime.datetime(2021,1,1))\r\n",
        "data"
      ],
      "execution_count": null,
      "outputs": [
        {
          "output_type": "execute_result",
          "data": {
            "text/html": [
              "<div>\n",
              "<style scoped>\n",
              "    .dataframe tbody tr th:only-of-type {\n",
              "        vertical-align: middle;\n",
              "    }\n",
              "\n",
              "    .dataframe tbody tr th {\n",
              "        vertical-align: top;\n",
              "    }\n",
              "\n",
              "    .dataframe thead th {\n",
              "        text-align: right;\n",
              "    }\n",
              "</style>\n",
              "<table border=\"1\" class=\"dataframe\">\n",
              "  <thead>\n",
              "    <tr style=\"text-align: right;\">\n",
              "      <th></th>\n",
              "      <th>High</th>\n",
              "      <th>Low</th>\n",
              "      <th>Open</th>\n",
              "      <th>Close</th>\n",
              "      <th>Volume</th>\n",
              "      <th>Adj Close</th>\n",
              "    </tr>\n",
              "    <tr>\n",
              "      <th>Date</th>\n",
              "      <th></th>\n",
              "      <th></th>\n",
              "      <th></th>\n",
              "      <th></th>\n",
              "      <th></th>\n",
              "      <th></th>\n",
              "    </tr>\n",
              "  </thead>\n",
              "  <tbody>\n",
              "    <tr>\n",
              "      <th>2020-01-02</th>\n",
              "      <td>160.729996</td>\n",
              "      <td>158.330002</td>\n",
              "      <td>158.779999</td>\n",
              "      <td>160.619995</td>\n",
              "      <td>22622100.0</td>\n",
              "      <td>158.571075</td>\n",
              "    </tr>\n",
              "    <tr>\n",
              "      <th>2020-01-03</th>\n",
              "      <td>159.949997</td>\n",
              "      <td>158.059998</td>\n",
              "      <td>158.320007</td>\n",
              "      <td>158.619995</td>\n",
              "      <td>21116200.0</td>\n",
              "      <td>156.596588</td>\n",
              "    </tr>\n",
              "    <tr>\n",
              "      <th>2020-01-06</th>\n",
              "      <td>159.100006</td>\n",
              "      <td>156.509995</td>\n",
              "      <td>157.080002</td>\n",
              "      <td>159.029999</td>\n",
              "      <td>20813700.0</td>\n",
              "      <td>157.001373</td>\n",
              "    </tr>\n",
              "    <tr>\n",
              "      <th>2020-01-07</th>\n",
              "      <td>159.669998</td>\n",
              "      <td>157.320007</td>\n",
              "      <td>159.320007</td>\n",
              "      <td>157.580002</td>\n",
              "      <td>21634100.0</td>\n",
              "      <td>155.569855</td>\n",
              "    </tr>\n",
              "    <tr>\n",
              "      <th>2020-01-08</th>\n",
              "      <td>160.800003</td>\n",
              "      <td>157.949997</td>\n",
              "      <td>158.929993</td>\n",
              "      <td>160.089996</td>\n",
              "      <td>27746500.0</td>\n",
              "      <td>158.047836</td>\n",
              "    </tr>\n",
              "    <tr>\n",
              "      <th>...</th>\n",
              "      <td>...</td>\n",
              "      <td>...</td>\n",
              "      <td>...</td>\n",
              "      <td>...</td>\n",
              "      <td>...</td>\n",
              "      <td>...</td>\n",
              "    </tr>\n",
              "    <tr>\n",
              "      <th>2020-12-24</th>\n",
              "      <td>223.610001</td>\n",
              "      <td>221.199997</td>\n",
              "      <td>221.419998</td>\n",
              "      <td>222.750000</td>\n",
              "      <td>10550600.0</td>\n",
              "      <td>222.238144</td>\n",
              "    </tr>\n",
              "    <tr>\n",
              "      <th>2020-12-28</th>\n",
              "      <td>226.029999</td>\n",
              "      <td>223.020004</td>\n",
              "      <td>224.449997</td>\n",
              "      <td>224.960007</td>\n",
              "      <td>17933500.0</td>\n",
              "      <td>224.443069</td>\n",
              "    </tr>\n",
              "    <tr>\n",
              "      <th>2020-12-29</th>\n",
              "      <td>227.179993</td>\n",
              "      <td>223.580002</td>\n",
              "      <td>226.309998</td>\n",
              "      <td>224.149994</td>\n",
              "      <td>17403200.0</td>\n",
              "      <td>223.634918</td>\n",
              "    </tr>\n",
              "    <tr>\n",
              "      <th>2020-12-30</th>\n",
              "      <td>225.630005</td>\n",
              "      <td>221.470001</td>\n",
              "      <td>225.229996</td>\n",
              "      <td>221.679993</td>\n",
              "      <td>20272300.0</td>\n",
              "      <td>221.170593</td>\n",
              "    </tr>\n",
              "    <tr>\n",
              "      <th>2020-12-31</th>\n",
              "      <td>223.000000</td>\n",
              "      <td>219.679993</td>\n",
              "      <td>221.699997</td>\n",
              "      <td>222.419998</td>\n",
              "      <td>20942100.0</td>\n",
              "      <td>221.908905</td>\n",
              "    </tr>\n",
              "  </tbody>\n",
              "</table>\n",
              "<p>253 rows × 6 columns</p>\n",
              "</div>"
            ],
            "text/plain": [
              "                  High         Low  ...      Volume   Adj Close\n",
              "Date                                ...                        \n",
              "2020-01-02  160.729996  158.330002  ...  22622100.0  158.571075\n",
              "2020-01-03  159.949997  158.059998  ...  21116200.0  156.596588\n",
              "2020-01-06  159.100006  156.509995  ...  20813700.0  157.001373\n",
              "2020-01-07  159.669998  157.320007  ...  21634100.0  155.569855\n",
              "2020-01-08  160.800003  157.949997  ...  27746500.0  158.047836\n",
              "...                ...         ...  ...         ...         ...\n",
              "2020-12-24  223.610001  221.199997  ...  10550600.0  222.238144\n",
              "2020-12-28  226.029999  223.020004  ...  17933500.0  224.443069\n",
              "2020-12-29  227.179993  223.580002  ...  17403200.0  223.634918\n",
              "2020-12-30  225.630005  221.470001  ...  20272300.0  221.170593\n",
              "2020-12-31  223.000000  219.679993  ...  20942100.0  221.908905\n",
              "\n",
              "[253 rows x 6 columns]"
            ]
          },
          "metadata": {
            "tags": []
          },
          "execution_count": 15
        }
      ]
    },
    {
      "cell_type": "markdown",
      "metadata": {
        "id": "umFXuTD4T_Pk"
      },
      "source": [
        "Our data is now a dataframe. You can see the datetime index and the colums with different pricing data."
      ]
    },
    {
      "cell_type": "code",
      "metadata": {
        "colab": {
          "base_uri": "https://localhost:8080/",
          "height": 450
        },
        "id": "X9i_ZmZsT_Pk",
        "outputId": "fddf87c1-f7df-4444-d2f9-14543222baf6"
      },
      "source": [
        "data"
      ],
      "execution_count": null,
      "outputs": [
        {
          "output_type": "execute_result",
          "data": {
            "text/html": [
              "<div>\n",
              "<style scoped>\n",
              "    .dataframe tbody tr th:only-of-type {\n",
              "        vertical-align: middle;\n",
              "    }\n",
              "\n",
              "    .dataframe tbody tr th {\n",
              "        vertical-align: top;\n",
              "    }\n",
              "\n",
              "    .dataframe thead th {\n",
              "        text-align: right;\n",
              "    }\n",
              "</style>\n",
              "<table border=\"1\" class=\"dataframe\">\n",
              "  <thead>\n",
              "    <tr style=\"text-align: right;\">\n",
              "      <th></th>\n",
              "      <th>High</th>\n",
              "      <th>Low</th>\n",
              "      <th>Open</th>\n",
              "      <th>Close</th>\n",
              "      <th>Volume</th>\n",
              "      <th>Adj Close</th>\n",
              "    </tr>\n",
              "    <tr>\n",
              "      <th>Date</th>\n",
              "      <th></th>\n",
              "      <th></th>\n",
              "      <th></th>\n",
              "      <th></th>\n",
              "      <th></th>\n",
              "      <th></th>\n",
              "    </tr>\n",
              "  </thead>\n",
              "  <tbody>\n",
              "    <tr>\n",
              "      <th>2020-01-02</th>\n",
              "      <td>160.729996</td>\n",
              "      <td>158.330002</td>\n",
              "      <td>158.779999</td>\n",
              "      <td>160.619995</td>\n",
              "      <td>22622100.0</td>\n",
              "      <td>158.571075</td>\n",
              "    </tr>\n",
              "    <tr>\n",
              "      <th>2020-01-03</th>\n",
              "      <td>159.949997</td>\n",
              "      <td>158.059998</td>\n",
              "      <td>158.320007</td>\n",
              "      <td>158.619995</td>\n",
              "      <td>21116200.0</td>\n",
              "      <td>156.596588</td>\n",
              "    </tr>\n",
              "    <tr>\n",
              "      <th>2020-01-06</th>\n",
              "      <td>159.100006</td>\n",
              "      <td>156.509995</td>\n",
              "      <td>157.080002</td>\n",
              "      <td>159.029999</td>\n",
              "      <td>20813700.0</td>\n",
              "      <td>157.001373</td>\n",
              "    </tr>\n",
              "    <tr>\n",
              "      <th>2020-01-07</th>\n",
              "      <td>159.669998</td>\n",
              "      <td>157.320007</td>\n",
              "      <td>159.320007</td>\n",
              "      <td>157.580002</td>\n",
              "      <td>21634100.0</td>\n",
              "      <td>155.569855</td>\n",
              "    </tr>\n",
              "    <tr>\n",
              "      <th>2020-01-08</th>\n",
              "      <td>160.800003</td>\n",
              "      <td>157.949997</td>\n",
              "      <td>158.929993</td>\n",
              "      <td>160.089996</td>\n",
              "      <td>27746500.0</td>\n",
              "      <td>158.047836</td>\n",
              "    </tr>\n",
              "    <tr>\n",
              "      <th>...</th>\n",
              "      <td>...</td>\n",
              "      <td>...</td>\n",
              "      <td>...</td>\n",
              "      <td>...</td>\n",
              "      <td>...</td>\n",
              "      <td>...</td>\n",
              "    </tr>\n",
              "    <tr>\n",
              "      <th>2020-12-24</th>\n",
              "      <td>223.610001</td>\n",
              "      <td>221.199997</td>\n",
              "      <td>221.419998</td>\n",
              "      <td>222.750000</td>\n",
              "      <td>10550600.0</td>\n",
              "      <td>222.238144</td>\n",
              "    </tr>\n",
              "    <tr>\n",
              "      <th>2020-12-28</th>\n",
              "      <td>226.029999</td>\n",
              "      <td>223.020004</td>\n",
              "      <td>224.449997</td>\n",
              "      <td>224.960007</td>\n",
              "      <td>17933500.0</td>\n",
              "      <td>224.443069</td>\n",
              "    </tr>\n",
              "    <tr>\n",
              "      <th>2020-12-29</th>\n",
              "      <td>227.179993</td>\n",
              "      <td>223.580002</td>\n",
              "      <td>226.309998</td>\n",
              "      <td>224.149994</td>\n",
              "      <td>17403200.0</td>\n",
              "      <td>223.634918</td>\n",
              "    </tr>\n",
              "    <tr>\n",
              "      <th>2020-12-30</th>\n",
              "      <td>225.630005</td>\n",
              "      <td>221.470001</td>\n",
              "      <td>225.229996</td>\n",
              "      <td>221.679993</td>\n",
              "      <td>20272300.0</td>\n",
              "      <td>221.170593</td>\n",
              "    </tr>\n",
              "    <tr>\n",
              "      <th>2020-12-31</th>\n",
              "      <td>223.000000</td>\n",
              "      <td>219.679993</td>\n",
              "      <td>221.699997</td>\n",
              "      <td>222.419998</td>\n",
              "      <td>20942100.0</td>\n",
              "      <td>221.908905</td>\n",
              "    </tr>\n",
              "  </tbody>\n",
              "</table>\n",
              "<p>253 rows × 6 columns</p>\n",
              "</div>"
            ],
            "text/plain": [
              "                  High         Low  ...      Volume   Adj Close\n",
              "Date                                ...                        \n",
              "2020-01-02  160.729996  158.330002  ...  22622100.0  158.571075\n",
              "2020-01-03  159.949997  158.059998  ...  21116200.0  156.596588\n",
              "2020-01-06  159.100006  156.509995  ...  20813700.0  157.001373\n",
              "2020-01-07  159.669998  157.320007  ...  21634100.0  155.569855\n",
              "2020-01-08  160.800003  157.949997  ...  27746500.0  158.047836\n",
              "...                ...         ...  ...         ...         ...\n",
              "2020-12-24  223.610001  221.199997  ...  10550600.0  222.238144\n",
              "2020-12-28  226.029999  223.020004  ...  17933500.0  224.443069\n",
              "2020-12-29  227.179993  223.580002  ...  17403200.0  223.634918\n",
              "2020-12-30  225.630005  221.470001  ...  20272300.0  221.170593\n",
              "2020-12-31  223.000000  219.679993  ...  20942100.0  221.908905\n",
              "\n",
              "[253 rows x 6 columns]"
            ]
          },
          "metadata": {
            "tags": []
          },
          "execution_count": 16
        }
      ]
    },
    {
      "cell_type": "markdown",
      "metadata": {
        "id": "iP0TIaT-T_Pl"
      },
      "source": [
        "This is a pandas dataframe, so we can index in to just get High price like this. For more info on pandas, please [click here](http://pandas.pydata.org/pandas-docs/stable/10min.html)."
      ]
    },
    {
      "cell_type": "code",
      "metadata": {
        "colab": {
          "base_uri": "https://localhost:8080/"
        },
        "id": "3LvNZKOVT_Pl",
        "outputId": "e8bf32e6-a555-4630-e1cf-f63ed92be3e4"
      },
      "source": [
        "X = data['High']\r\n",
        "X"
      ],
      "execution_count": null,
      "outputs": [
        {
          "output_type": "execute_result",
          "data": {
            "text/plain": [
              "Date\n",
              "2020-01-02    160.729996\n",
              "2020-01-03    159.949997\n",
              "2020-01-06    159.100006\n",
              "2020-01-07    159.669998\n",
              "2020-01-08    160.800003\n",
              "                 ...    \n",
              "2020-12-24    223.610001\n",
              "2020-12-28    226.029999\n",
              "2020-12-29    227.179993\n",
              "2020-12-30    225.630005\n",
              "2020-12-31    223.000000\n",
              "Name: High, Length: 253, dtype: float64"
            ]
          },
          "metadata": {
            "tags": []
          },
          "execution_count": 17
        }
      ]
    },
    {
      "cell_type": "markdown",
      "metadata": {
        "id": "oovbELUIT_Pm"
      },
      "source": [
        "Because there is now also date information in our data, we provide two series to `.plot`. `X.index` gives us the datetime index, and `X.values` gives us the pricing values. These are used as the X and Y coordinates to make a graph."
      ]
    },
    {
      "cell_type": "code",
      "metadata": {
        "colab": {
          "base_uri": "https://localhost:8080/",
          "height": 265
        },
        "id": "GGMk62KbT_Pm",
        "outputId": "f58f2b47-fe4d-49b2-96fc-a87a3f229689"
      },
      "source": [
        "plt.plot(X.index, X.values)\n",
        "plt.ylabel('Price')\n",
        "plt.legend(['MSFT']);"
      ],
      "execution_count": null,
      "outputs": [
        {
          "output_type": "display_data",
          "data": {
            "image/png": "[encoded data removed]",
            "text/plain": [
              "<Figure size 432x288 with 1 Axes>"
            ]
          },
          "metadata": {
            "tags": [],
            "needs_background": "light"
          }
        }
      ]
    },
    {
      "cell_type": "markdown",
      "metadata": {
        "id": "2D-6flGtT_Pn"
      },
      "source": [
        "We can get statistics again on real data."
      ]
    },
    {
      "cell_type": "code",
      "metadata": {
        "colab": {
          "base_uri": "https://localhost:8080/"
        },
        "id": "vX_MkvmtT_Pn",
        "outputId": "7558d882-40b5-40e6-910e-8b863541fe90"
      },
      "source": [
        "np.mean(X)"
      ],
      "execution_count": null,
      "outputs": [
        {
          "output_type": "execute_result",
          "data": {
            "text/plain": [
              "102.11406370368137"
            ]
          },
          "metadata": {
            "tags": []
          },
          "execution_count": 25
        }
      ]
    },
    {
      "cell_type": "code",
      "metadata": {
        "colab": {
          "base_uri": "https://localhost:8080/"
        },
        "id": "XVewF1NuT_Po",
        "outputId": "e808e3e8-5280-4cee-cae8-2cc19ae261a1"
      },
      "source": [
        "np.std(X)"
      ],
      "execution_count": null,
      "outputs": [
        {
          "output_type": "execute_result",
          "data": {
            "text/plain": [
              "7.889753837946643"
            ]
          },
          "metadata": {
            "tags": []
          },
          "execution_count": 26
        }
      ]
    },
    {
      "cell_type": "markdown",
      "metadata": {
        "id": "bq_2V1y1T_Po"
      },
      "source": [
        "##Getting Returns from Prices\n",
        "\n",
        "We can use the `pct_change` function to get returns. Notice how we drop the first element after doing this, as it will be `NaN` (nothing -> something results in a NaN percent change)."
      ]
    },
    {
      "cell_type": "code",
      "metadata": {
        "id": "2R9XpsQST_Pp"
      },
      "source": [
        "R = X.pct_change()[1:]"
      ],
      "execution_count": null,
      "outputs": []
    },
    {
      "cell_type": "markdown",
      "metadata": {
        "id": "omJovGDhT_Pp"
      },
      "source": [
        "We can plot the returns distribution as a histogram."
      ]
    },
    {
      "cell_type": "code",
      "metadata": {
        "colab": {
          "base_uri": "https://localhost:8080/",
          "height": 279
        },
        "id": "pETbCGEsT_Pp",
        "outputId": "bcba1246-7291-4e26-90fd-4e22d4ce0585"
      },
      "source": [
        "plt.hist(R, bins=20)\n",
        "plt.xlabel('Return')\n",
        "plt.ylabel('Frequency')\n",
        "plt.legend(['MSFT Returns']);"
      ],
      "execution_count": null,
      "outputs": [
        {
          "output_type": "display_data",
          "data": {
            "image/png": "[encoded data removed]",
            "text/plain": [
              "<Figure size 432x288 with 1 Axes>"
            ]
          },
          "metadata": {
            "tags": [],
            "needs_background": "light"
          }
        }
      ]
    },
    {
      "cell_type": "markdown",
      "metadata": {
        "id": "Uv4fWk15T_Pq"
      },
      "source": [
        "Get statistics again."
      ]
    },
    {
      "cell_type": "code",
      "metadata": {
        "colab": {
          "base_uri": "https://localhost:8080/"
        },
        "id": "1IcVmKPBT_Ps",
        "outputId": "3203dcef-08f3-49f7-d86c-b41baec3097e"
      },
      "source": [
        "np.mean(R)"
      ],
      "execution_count": null,
      "outputs": [
        {
          "output_type": "execute_result",
          "data": {
            "text/plain": [
              "0.0007711474019386575"
            ]
          },
          "metadata": {
            "tags": []
          },
          "execution_count": 32
        }
      ]
    },
    {
      "cell_type": "code",
      "metadata": {
        "colab": {
          "base_uri": "https://localhost:8080/"
        },
        "id": "z825CMRNT_Ps",
        "outputId": "39c4d30c-e0f3-41e3-c247-bbfdc3f620f9"
      },
      "source": [
        "np.std(R)"
      ],
      "execution_count": null,
      "outputs": [
        {
          "output_type": "execute_result",
          "data": {
            "text/plain": [
              "0.013179028414868637"
            ]
          },
          "metadata": {
            "tags": []
          },
          "execution_count": 33
        }
      ]
    },
    {
      "cell_type": "markdown",
      "metadata": {
        "id": "8qIqXsPbT_Pt"
      },
      "source": [
        "Now let's go backwards and generate data out of a normal distribution using the statistics we estimated from Microsoft's returns. We'll see that we have good reason to suspect Microsoft's returns may not be normal, as the resulting normal distribution looks far different."
      ]
    },
    {
      "cell_type": "code",
      "metadata": {
        "colab": {
          "base_uri": "https://localhost:8080/",
          "height": 280
        },
        "id": "-h2WcWUZT_Pu",
        "outputId": "74a2ef7f-4fe0-4b11-984a-098aff16fa0d"
      },
      "source": [
        "plt.hist(np.random.normal(np.mean(R), np.std(R), 10000), bins=20)\n",
        "plt.xlabel('Return')\n",
        "plt.ylabel('Frequency')\n",
        "plt.legend(['Normally Distributed Returns']);"
      ],
      "execution_count": null,
      "outputs": [
        {
          "output_type": "display_data",
          "data": {
            "image/png": "[encoded data removed]",
            "text/plain": [
              "<Figure size 432x288 with 1 Axes>"
            ]
          },
          "metadata": {
            "tags": [],
            "needs_background": "light"
          }
        }
      ]
    },
    {
      "cell_type": "markdown",
      "metadata": {
        "id": "W5EZ6QORT_Pu"
      },
      "source": [
        "##Generating a Moving Average\n",
        "\n",
        "`pandas` has some nice tools to allow us to generate rolling statistics. Here's an example. Notice how there's no moving average for the first 60 days.\n"
      ]
    },
    {
      "cell_type": "code",
      "metadata": {
        "colab": {
          "base_uri": "https://localhost:8080/",
          "height": 265
        },
        "id": "X4TiWkbAT_Pv",
        "outputId": "7dce9cb5-f3cf-454d-b028-db48fac61ec2"
      },
      "source": [
        "# Take the average of the last 60 days at each timepoint.\n",
        "MAVG = X.rolling(60).mean()\n",
        "plt.plot(X.index, X.values)\n",
        "plt.plot(MAVG.index, MAVG.values)\n",
        "plt.ylabel('Price')\n",
        "plt.legend(['MSFT', '60-day MAVG']);"
      ],
      "execution_count": null,
      "outputs": [
        {
          "output_type": "display_data",
          "data": {
            "image/png": "[encoded data removed]",
            "text/plain": [
              "<Figure size 432x288 with 1 Axes>"
            ]
          },
          "metadata": {
            "tags": [],
            "needs_background": "light"
          }
        }
      ]
    },
    {
      "cell_type": "markdown",
      "metadata": {
        "id": "Z_EWX0E5T_Pw"
      },
      "source": [
        "This presentation is for informational purposes only and does not constitute an offer to sell, a solicitation to buy, or a recommendation for any security; nor does it constitute an offer to provide investment advisory or other services by Quantopian, Inc. (\"Quantopian\"). Nothing contained herein constitutes investment advice or offers any opinion with respect to the suitability of any security, and any views expressed herein should not be taken as advice to buy, sell, or hold any security or as an endorsement of any security or company. In preparing the information contained herein, Quantopian, Inc. has not taken into account the investment needs, objectives, and financial circumstances of any particular investor. Any views expressed and data illustrated herein were prepared based upon information, believed to be reliable, available to Quantopian, Inc. at the time of publication. Quantopian makes no guarantees as to their accuracy or completeness. All information is subject to change and may quickly become unreliable for various reasons, including changes in market conditions or economic circumstances."
      ]
    }
  ]
}